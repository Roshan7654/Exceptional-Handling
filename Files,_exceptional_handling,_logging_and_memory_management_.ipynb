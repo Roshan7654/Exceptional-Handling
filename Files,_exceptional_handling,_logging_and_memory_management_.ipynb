{
  "nbformat": 4,
  "nbformat_minor": 0,
  "metadata": {
    "colab": {
      "provenance": []
    },
    "kernelspec": {
      "name": "python3",
      "display_name": "Python 3"
    },
    "language_info": {
      "name": "python"
    }
  },
  "cells": [
    {
      "cell_type": "markdown",
      "source": [
        "\n",
        "1. What is the difference between interpreted and compiled languages?\n",
        "\n",
        "-->\n",
        "\n",
        "\n",
        "\n",
        "the difference lies in how the code is executed:\n",
        "\n",
        "- Interpreted languages: Python is primarily an interpreted language. It processes the code line by line at runtime using an interpreter, which converts the source code into machine-readable instructions on the fly. This makes debugging easier but can be slower.\n",
        "\n",
        "- Compiled languages: These translate the entire source code into machine code using a compiler before execution. This makes execution faster, but debugging can be more challenging as errors show up only after compilation.\n",
        "\n"
      ],
      "metadata": {
        "id": "-5suLKRr_w1w"
      }
    },
    {
      "cell_type": "markdown",
      "source": [
        "2. What is exception handling in Python?\n",
        "\n",
        "-->\n",
        "\n",
        "exception handling in python is managing runtime errors to prevent crashes. it uses try, except, else, and finally blocks to handle errors gracefully."
      ],
      "metadata": {
        "id": "b5gyPxoa_8ZC"
      }
    },
    {
      "cell_type": "markdown",
      "source": [
        "3. What is the purpose of the finally block in exception handling?\n",
        "\n",
        "-->\n",
        "\n",
        "the finally block ensures that specific code is executed no matter what, whether an exception occurs or not. it is often used for cleanup tasks like closing files or releasing resources."
      ],
      "metadata": {
        "id": "4H-7XK7PAeyW"
      }
    },
    {
      "cell_type": "markdown",
      "source": [
        "4. What is logging in Python?\n",
        "\n",
        "-->\n",
        "\n",
        "logging in python is a way to track events that happen when a program runs. it helps in debugging and monitoring by recording messages, errors, or warnings in a systematic manner.\n"
      ],
      "metadata": {
        "id": "7ukXq6QrAp9e"
      }
    },
    {
      "cell_type": "markdown",
      "source": [
        "5. What is the significance of the __del__ method in Python?\n",
        "\n",
        "-->\n",
        "\n",
        "the `__del__` method in python is a destructor that is called when an object is about to be destroyed. it is used to release resources or perform cleanup tasks like closing files or network connections."
      ],
      "metadata": {
        "id": "dArH51EyBJmO"
      }
    },
    {
      "cell_type": "markdown",
      "source": [
        "6. What is the difference between import and from ... import in Python?\n",
        "\n",
        "-->\n",
        "\n",
        "- import: brings the entire module into your program. you access its functions or variables using the module name.  \n",
        "- from ... import: imports specific parts (functions, variables) of a module, so you can use them directly without the module name.\n"
      ],
      "metadata": {
        "id": "59aq8klFBRAv"
      }
    },
    {
      "cell_type": "markdown",
      "source": [
        "7. How can you handle multiple exceptions in Python?\n",
        "\n",
        "-->\n",
        "\n",
        "you can handle multiple exceptions in python using:  \n",
        "\n",
        "1. multiple except blocks: specify different exceptions separately.  \n",
        "2. a single except block with a tuple: handle multiple exceptions together.\n"
      ],
      "metadata": {
        "id": "HtFVq56FBgZ2"
      }
    },
    {
      "cell_type": "markdown",
      "source": [
        "8.  What is the purpose of the with statement when handling files in Python?\n",
        "\n",
        "-->\n",
        "\n",
        "the with statement is used for handling files in python to ensure that the file is properly closed after its block of code is executed, even if an exception occurs. it simplifies file management and avoids leaving files open.\n"
      ],
      "metadata": {
        "id": "9d4EaZZzBuaN"
      }
    },
    {
      "cell_type": "markdown",
      "source": [
        "9. What is the difference between multithreading and multiprocessing?\n",
        "\n",
        "-->\n",
        "\n",
        "- Multithreading: runs multiple threads within a single process, sharing the same memory space. it's useful for tasks that are I/O-bound but not ideal for CPU-bound tasks due to the Global Interpreter Lock (GIL) in python.\n",
        "\n",
        "- Multiprocessing: runs multiple processes, each with its own memory space. it's ideal for CPU-bound tasks because it bypasses the GIL and can fully utilize multiple CPU cores."
      ],
      "metadata": {
        "id": "R9Wm5ZGuB6x5"
      }
    },
    {
      "cell_type": "markdown",
      "source": [
        "10. What are the advantages of using logging in a program?\n",
        "\n",
        "-->\n",
        "\n",
        "logging provides several advantages:\n",
        "\n",
        "1. it helps track and debug errors by recording events.\n",
        "2. provides detailed insights into program behavior and performance.\n",
        "3. allows you to control the level of detail in messages (e.g., info, warnings, errors).\n",
        "4. makes it easier to monitor applications in production.\n",
        "5. can save logs to files, which helps with long-term analysis and troubleshooting.\n"
      ],
      "metadata": {
        "id": "tqeq2AwcCeQa"
      }
    },
    {
      "cell_type": "markdown",
      "source": [
        "11. What is memory management in Python?\n",
        "\n",
        "-->\n",
        "\n",
        "memory management in python refers to the process of allocating and deallocating memory for objects. python uses automatic memory management with a built-in garbage collector to handle unused objects and free up memory.\n"
      ],
      "metadata": {
        "id": "79FJe-QUCmN2"
      }
    },
    {
      "cell_type": "markdown",
      "source": [
        "12. What are the basic steps involved in exception handling in Python?\n",
        "\n",
        "-->\n",
        "\n",
        "the basic steps in exception handling are:\n",
        "\n",
        "1. try: write the code that might raise an exception.\n",
        "2. except: catch and handle the exception if one occurs.\n",
        "3. else(optional): run code if no exception occurs.\n",
        "4. finally (optional): execute code no matter what, like cleanup tasks."
      ],
      "metadata": {
        "id": "5opHy9DjC_bI"
      }
    },
    {
      "cell_type": "markdown",
      "source": [],
      "metadata": {
        "id": "Ra4YXNW-DpO2"
      }
    },
    {
      "cell_type": "markdown",
      "source": [
        "13. Why is memory management important in Python?\n",
        "\n",
        "-->\n",
        "\n",
        "memory management is important in python because it ensures efficient use of system resources, prevents memory leaks, and maintains the performance of the program. proper memory management also helps in managing large-scale data and optimizing the execution of code."
      ],
      "metadata": {
        "id": "dJaqhZpTDUaY"
      }
    },
    {
      "cell_type": "markdown",
      "source": [
        "14. What is the role of try and except in exception handling?\n",
        "\n",
        "-->\n",
        "\n",
        "the try block contains code that might raise an exception. if an error occurs, the control is passed to the except block, where you handle the exception and prevent the program from crashing."
      ],
      "metadata": {
        "id": "g5SbDABWDe2l"
      }
    },
    {
      "cell_type": "markdown",
      "source": [
        "15. How does Python's garbage collection system work?\n",
        "\n",
        "-->\n",
        "\n",
        "python's garbage collection system automatically manages memory by tracking objects and reclaiming memory from those that are no longer in use. it uses reference counting and a cyclic garbage collector to detect and clean up reference cycles (objects referring to each other)."
      ],
      "metadata": {
        "id": "oREGMTe4DpzV"
      }
    },
    {
      "cell_type": "markdown",
      "source": [
        "16. What is the purpose of the else block in exception handling?\n",
        "\n",
        "-->\n",
        "\n",
        "the **else** block in exception handling runs if no exception occurs in the **try** block. it is used for code that should only execute when the try block is successful, avoiding unnecessary execution if an error happens."
      ],
      "metadata": {
        "id": "42ry95OPD482"
      }
    },
    {
      "cell_type": "markdown",
      "source": [
        "17. What are the common logging levels in Python?\n",
        "\n",
        "-->\n",
        "\n",
        "the common logging levels in python are:\n",
        "\n",
        "1. **DEBUG**: detailed information, typically useful for diagnosing problems.\n",
        "2. **INFO**: general information about the program's normal operation.\n",
        "3. **WARNING**: indicates a potential problem or a situation that may need attention.\n",
        "4. **ERROR**: indicates a more serious problem that might prevent the program from running as expected.\n",
        "5. **CRITICAL**: indicates a very severe problem, possibly causing the program to stop."
      ],
      "metadata": {
        "id": "knqEqOFoD_lD"
      }
    },
    {
      "cell_type": "markdown",
      "source": [
        "18.  What is the difference between os.fork() and multiprocessing in Python0\n",
        "\n",
        "-->\n",
        "\n",
        "- os.fork(): creates a new process by duplicating the calling process. it only works on Unix-based systems and doesn't involve Python's Global Interpreter Lock (GIL), so both parent and child processes share memory.\n",
        "\n",
        "- multiprocessing: creates separate processes, each with its own memory space, allowing parallel execution. it works across platforms (Windows, Linux) and bypasses the GIL, making it better suited for CPU-bound tasks."
      ],
      "metadata": {
        "id": "lTzSBcPLEVbQ"
      }
    },
    {
      "cell_type": "markdown",
      "source": [
        "19. What is the importance of closing a file in Python?\n",
        "\n",
        "-->\n",
        "\n",
        "closing a file in python is important because it ensures that all data is properly written and resources like memory or file handles are released. failing to close a file may lead to memory leaks or locked files, preventing other processes from accessing them.\n"
      ],
      "metadata": {
        "id": "5ZxIPc0GElNp"
      }
    },
    {
      "cell_type": "markdown",
      "source": [
        "20. What is the difference between file.read() and file.readline() in Python?\n",
        "\n",
        "-->\n",
        "\n",
        "- **file.read()**: reads the entire contents of a file at once as a single string.\n",
        "- **file.readline()**: reads one line at a time from the file, returning it as a string. useful for reading large files line by line."
      ],
      "metadata": {
        "id": "ryqJSu2jEs2_"
      }
    },
    {
      "cell_type": "markdown",
      "source": [
        "21. What is the logging module in Python used for?\n",
        "\n",
        "-->\n",
        "\n",
        "\n",
        "the logging module in python is used to log messages from your code. it helps you track events, errors, and other important information during the execution of a program, making debugging and monitoring easier. it supports different log levels like DEBUG, INFO, WARNING, ERROR, and CRITICAL."
      ],
      "metadata": {
        "id": "YiyLBqoRfYm6"
      }
    },
    {
      "cell_type": "markdown",
      "source": [
        "22. What is the os module in Python used for in file handling?\n",
        "\n",
        "-->\n",
        "\n",
        "the os module in python is used for interacting with the operating system, particularly for file handling. it allows you to perform tasks like creating, deleting, and renaming files, checking file existence, and navigating directories (changing current working directory, listing files in a directory).\n"
      ],
      "metadata": {
        "id": "3B22RDd4fvM_"
      }
    },
    {
      "cell_type": "markdown",
      "source": [
        "23. What are the challenges associated with memory management in Python?\n",
        "\n",
        "-->\n",
        "\n",
        "memory management in python faces a few challenges, such as:\n",
        "\n",
        "1. **Garbage Collection**: Python uses automatic garbage collection, but sometimes it can be inefficient, leading to memory leaks if circular references are not properly handled.\n",
        "  \n",
        "2. **Reference Counting**: Python uses reference counting for memory management, but if objects are not properly dereferenced, it can cause memory to not be released.\n",
        "\n",
        "3. **Memory Fragmentation**: Due to dynamic memory allocation, the memory can become fragmented over time, leading to inefficiencies.\n",
        "\n",
        "4. **Memory Overhead**: Python objects, especially those like lists and dictionaries, carry significant overhead due to their dynamic nature and the need to store additional information.\n",
        "\n",
        "5. **Limited Control**: Python abstracts away low-level memory management, which gives less control to developers compared to languages like C or C++."
      ],
      "metadata": {
        "id": "2_6bwPcHf_sO"
      }
    },
    {
      "cell_type": "markdown",
      "source": [
        "24. How do you raise an exception manually in Python?\n",
        "\n",
        "-->\n",
        "\n",
        "you can raise an exception manually in python using the `raise` keyword. for example:\n",
        "\n",
        "```python\n",
        "raise Exception(\"This is an error message\")\n",
        "```\n",
        "\n",
        "you can also raise specific exceptions like `ValueError`, `TypeError`, etc.:\n",
        "\n",
        "```python\n",
        "raise ValueError(\"Invalid value\")\n",
        "```"
      ],
      "metadata": {
        "id": "40V6whgugIed"
      }
    },
    {
      "cell_type": "markdown",
      "source": [
        "25. Why is it important to use multithreading in certain applications?\n",
        "\n",
        "-->\n",
        "\n",
        "multithreading is important in certain applications because it allows multiple tasks to run concurrently, improving efficiency and responsiveness. some key reasons include:\n",
        "\n",
        "1. Faster Execution: multithreading can help utilize multiple CPU cores, speeding up tasks that can be parallelized.\n",
        "  \n",
        "2. Improved Responsiveness: in applications with user interfaces or servers, multithreading keeps the system responsive by allowing background tasks (like downloading or processing) to run without freezing the main thread.\n",
        "\n",
        "3. Better Resource Utilization: it helps in maximizing CPU usage, especially for I/O-bound tasks (like reading files or waiting for network responses), reducing idle time.\n",
        "\n",
        "4. Simplified Design: it can make certain complex applications easier to design by separating tasks into independent threads, like handling multiple user requests in web servers."
      ],
      "metadata": {
        "id": "bxZ3M58Ag3n3"
      }
    },
    {
      "cell_type": "code",
      "execution_count": null,
      "metadata": {
        "id": "WKffQIXq8Ylu"
      },
      "outputs": [],
      "source": []
    },
    {
      "cell_type": "markdown",
      "source": [
        "#PRACTICAL"
      ],
      "metadata": {
        "id": "5F1AX-_6hnT9"
      }
    },
    {
      "cell_type": "markdown",
      "source": [
        "1. How can you open a file for writing in Python and write a string to it?\n",
        "\n",
        "-->\n",
        "\n",
        "             with open('file.txt', 'w') as file:\n",
        "          file.write(\"This is a string written to the file.\")\n"
      ],
      "metadata": {
        "id": "QEMOUiqFhqeE"
      }
    },
    {
      "cell_type": "markdown",
      "source": [
        "2. Write a Python program to read the contents of a file and print each line?\n",
        "\n",
        "-->\n",
        "\n",
        "      with open('file.txt', 'r') as file:\n",
        "          for line in file:\n",
        "              print(line)\n",
        "\n",
        "\n"
      ],
      "metadata": {
        "id": "xk10dbvgiTD9"
      }
    },
    {
      "cell_type": "markdown",
      "source": [],
      "metadata": {
        "id": "2yVa5UhTir7p"
      }
    },
    {
      "cell_type": "code",
      "source": [
        "#3. How would you handle a case where the file doesn't exist while trying to open it for reading?\n",
        "\n",
        "\n",
        "try:\n",
        "    with open('file.txt', 'r') as file:\n",
        "        for line in file:\n",
        "            print(line)\n",
        "except FileNotFoundError:\n",
        "    print(\"The file does not exist.\")\n"
      ],
      "metadata": {
        "id": "F8qe-JmVi0eh"
      },
      "execution_count": null,
      "outputs": []
    },
    {
      "cell_type": "markdown",
      "source": [],
      "metadata": {
        "id": "_U95-ntRih_r"
      }
    },
    {
      "cell_type": "code",
      "source": [
        "# 4. Write a Python script that reads from one file and writes its content to another file?\n",
        "\n",
        "try:\n",
        "    with open('file.txt', 'r') as file:\n",
        "        for line in file:\n",
        "            print(line)\n",
        "except FileNotFoundError:\n",
        "    print(\"The file does not exist.\")\n"
      ],
      "metadata": {
        "id": "rC02NA99i65b"
      },
      "execution_count": null,
      "outputs": []
    },
    {
      "cell_type": "code",
      "source": [
        "# 5. How would you catch and handle division by zero error in Python?\n",
        "\n",
        "try:\n",
        "    result = 10 / 0\n",
        "except ZeroDivisionError:\n",
        "    print(\"Error: Cannot divide by zero.\")\n"
      ],
      "metadata": {
        "id": "wITzGwp4jfJu"
      },
      "execution_count": null,
      "outputs": []
    },
    {
      "cell_type": "code",
      "source": [
        "# 6. Write a Python program that logs an error message to a log file when a division by zero exception occurs?\n",
        "\n",
        "import logging\n",
        "\n",
        "# Set up logging\n",
        "logging.basicConfig(filename='error_log.txt', level=logging.ERROR)\n",
        "\n",
        "try:\n",
        "    result = 10 / 0\n",
        "except ZeroDivisionError as e:\n",
        "    logging.error(\"Division by zero error: %s\", e)\n",
        "    print(\"An error occurred, check the log file for details.\")\n"
      ],
      "metadata": {
        "id": "HVPyicoRjsHr"
      },
      "execution_count": null,
      "outputs": []
    },
    {
      "cell_type": "code",
      "source": [
        "# 7. How do you log information at different levels (INFO, ERROR, WARNING) in Python using the logging module?\n",
        "\n",
        "import logging\n",
        "\n",
        "# Set up logging configuration\n",
        "logging.basicConfig(filename='app.log', level=logging.DEBUG)\n",
        "\n",
        "# Log at different levels\n",
        "logging.debug(\"This is a debug message.\")\n",
        "logging.info(\"This is an info message.\")\n",
        "logging.warning(\"This is a warning message.\")\n",
        "logging.error(\"This is an error message.\")\n",
        "logging.critical(\"This is a critical message.\")\n"
      ],
      "metadata": {
        "id": "JjAz5WoUj0Wx"
      },
      "execution_count": null,
      "outputs": []
    },
    {
      "cell_type": "code",
      "source": [
        "# 8. Write a program to handle a file opening error using exception handling?\n",
        "\n",
        "try:\n",
        "    with open('file.txt', 'r') as file:\n",
        "        content = file.read()\n",
        "        print(content)\n",
        "except FileNotFoundError:\n",
        "    print(\"Error: The file does not exist.\")\n",
        "except IOError:\n",
        "    print(\"Error: An error occurred while opening the file.\")\n"
      ],
      "metadata": {
        "id": "XjEus2Hgj_Bk"
      },
      "execution_count": null,
      "outputs": []
    },
    {
      "cell_type": "code",
      "source": [
        "# 9. How can you read a file line by line and store its content in a list in Python?\n",
        "\n",
        "with open('file.txt', 'r') as file:\n",
        "    lines = file.readlines()\n",
        "\n",
        "# Now 'lines' contains all the lines from the file as a list\n",
        "print(lines)\n"
      ],
      "metadata": {
        "id": "euPm4iankLmQ"
      },
      "execution_count": null,
      "outputs": []
    },
    {
      "cell_type": "code",
      "source": [
        "# 10. How can you append data to an existing file in Python?\n",
        "\n",
        "with open('file.txt', 'a') as file:\n",
        "    file.write(\"This is the new data being appended.\\n\")\n"
      ],
      "metadata": {
        "id": "bmlgJhGukWyq"
      },
      "execution_count": null,
      "outputs": []
    },
    {
      "cell_type": "code",
      "source": [
        "# 11. Write a Python program that uses a try-except block to handle an error when attempting to access a dictionary key that doesn't exist?\n",
        "\n",
        "my_dict = {\"name\": \"John\", \"age\": 25}\n",
        "\n",
        "try:\n",
        "    value = my_dict[\"address\"]\n",
        "except KeyError:\n",
        "    print(\"Error: The key 'address' does not exist in the dictionary.\")\n",
        "\n",
        "\n"
      ],
      "metadata": {
        "id": "4x7XPeJjkjdn"
      },
      "execution_count": null,
      "outputs": []
    },
    {
      "cell_type": "code",
      "source": [
        "# 12. Write a program that demonstrates using multiple except blocks to handle different types of exceptions?\n",
        "\n",
        "try:\n",
        "    x = 10 / 0  # This will raise a ZeroDivisionError\n",
        "    my_dict = {\"name\": \"Alice\"}\n",
        "    value = my_dict[\"age\"]  # This will raise a KeyError\n",
        "except ZeroDivisionError:\n",
        "    print(\"Error: Division by zero occurred.\")\n",
        "except KeyError:\n",
        "    print(\"Error: The key does not exist in the dictionary.\")\n",
        "except Exception as e:\n",
        "    print(f\"An unexpected error occurred: {e}\")\n"
      ],
      "metadata": {
        "id": "rGH-VAyRkq8S"
      },
      "execution_count": null,
      "outputs": []
    },
    {
      "cell_type": "code",
      "source": [
        "# 13. How would you check if a file exists before attempting to read it in Python?\n",
        "\n",
        "import os\n",
        "\n",
        "file_path = 'file.txt'\n",
        "\n",
        "if os.path.exists(file_path):\n",
        "    with open(file_path, 'r') as file:\n",
        "        content = file.read()\n",
        "        print(content)\n",
        "else:\n",
        "    print(\"The file does not exist.\")\n"
      ],
      "metadata": {
        "id": "WXAsOGaOkzQS"
      },
      "execution_count": null,
      "outputs": []
    },
    {
      "cell_type": "code",
      "source": [
        "# 14. Write a program that uses the logging module to log both informational and error messages?\n",
        "\n",
        "import logging\n",
        "\n",
        "# Set up logging configuration\n",
        "logging.basicConfig(filename='app.log', level=logging.DEBUG)\n",
        "\n",
        "# Log an informational message\n",
        "logging.info(\"This is an informational message.\")\n",
        "\n",
        "# Log an error message\n",
        "logging.error(\"This is an error message.\")\n",
        "\n",
        "# You can also log at other levels, for example:\n",
        "logging.warning(\"This is a warning message.\")\n",
        "logging.critical(\"This is a critical message.\")\n"
      ],
      "metadata": {
        "id": "FunSV8YNk_Tn"
      },
      "execution_count": null,
      "outputs": []
    },
    {
      "cell_type": "code",
      "source": [
        "# 15. Write a Python program that prints the content of a file and handles the case when the file is empty?\n",
        "\n",
        "try:\n",
        "    with open('file.txt', 'r') as file:\n",
        "        content = file.read()\n",
        "        if content:\n",
        "            print(content)\n",
        "        else:\n",
        "            print(\"The file is empty.\")\n",
        "except FileNotFoundError:\n",
        "    print(\"Error: The file does not exist.\")\n",
        "except IOError:\n",
        "    print(\"Error: An error occurred while reading the file.\")\n"
      ],
      "metadata": {
        "id": "djcopGBklGC5"
      },
      "execution_count": null,
      "outputs": []
    },
    {
      "cell_type": "code",
      "source": [
        "# 16. Demonstrate how to use memory profiling to check the memory usage of a small program?\n",
        "\n",
        "pip install memory-profiler\n",
        "\n",
        "from memory_profiler import profile\n",
        "\n",
        "@profile\n",
        "def my_function():\n",
        "    a = [i for i in range(10000)]  # create a list of 10,000 integers\n",
        "    b = [i**2 for i in range(10000)]  # create a list of squares\n",
        "    return a, b\n",
        "\n",
        "if __name__ == \"__main__\":\n",
        "    my_function()\n",
        "\n",
        "python -m memory_profiler my_script.py\n",
        "\n"
      ],
      "metadata": {
        "id": "CU6oqd1jlPo9"
      },
      "execution_count": null,
      "outputs": []
    },
    {
      "cell_type": "code",
      "source": [
        "# 17. Write a Python program to create and write a list of numbers to a file, one number per line?\n",
        "\n",
        "numbers = [1, 2, 3, 4, 5, 6, 7, 8, 9, 10]\n",
        "\n",
        "with open('numbers.txt', 'w') as file:\n",
        "    for number in numbers:\n",
        "        file.write(f\"{number}\\n\")\n"
      ],
      "metadata": {
        "id": "lQxvhqwRlxKi"
      },
      "execution_count": null,
      "outputs": []
    },
    {
      "cell_type": "code",
      "source": [
        " # 18. How would you implement a basic logging setup that logs to a file with rotation after 1MB?\n",
        "\n",
        "import logging\n",
        "from logging.handlers import RotatingFileHandler\n",
        "\n",
        "# Set up the rotating file handler\n",
        "handler = RotatingFileHandler('app.log', maxBytes=1e6, backupCount=3)  # 1MB and keep 3 backups\n",
        "\n",
        "# Set up the logging format\n",
        "formatter = logging.Formatter('%(asctime)s - %(levelname)s - %(message)s')\n",
        "handler.setFormatter(formatter)\n",
        "\n",
        "# Set up the logger\n",
        "logger = logging.getLogger()\n",
        "logger.setLevel(logging.DEBUG)\n",
        "logger.addHandler(handler)\n",
        "\n",
        "# Example logging messages\n",
        "logger.info(\"This is an info message.\")\n",
        "logger.error(\"This is an error message.\")\n"
      ],
      "metadata": {
        "id": "AdJzYZq6mE9t"
      },
      "execution_count": null,
      "outputs": []
    },
    {
      "cell_type": "code",
      "source": [
        "# 19.  Write a program that handles both IndexError and KeyError using a try-except blockF\n",
        "\n",
        "my_list = [1, 2, 3]\n",
        "my_dict = {\"name\": \"John\", \"age\": 25}\n",
        "\n",
        "try:\n",
        "    # This will raise IndexError\n",
        "    value = my_list[5]\n",
        "\n",
        "    # This will raise KeyError\n",
        "    value = my_dict[\"address\"]\n",
        "\n",
        "except IndexError:\n",
        "    print(\"Error: Index out of range in the list.\")\n",
        "except KeyError:\n",
        "    print(\"Error: Key not found in the dictionary.\")\n",
        "\n"
      ],
      "metadata": {
        "id": "Z0qknXaDmNU3"
      },
      "execution_count": null,
      "outputs": []
    },
    {
      "cell_type": "code",
      "source": [
        "# 20. How would you open a file and read its contents using a context manager in Python?\n",
        "\n",
        "with open('file.txt', 'r') as file:\n",
        "    content = file.read()\n",
        "    print(content)\n"
      ],
      "metadata": {
        "id": "_dfl7WL1mVGA"
      },
      "execution_count": null,
      "outputs": []
    },
    {
      "cell_type": "code",
      "source": [
        "# 21. Write a Python program that reads a file and prints the number of occurrences of a specific word?\n",
        "\n",
        "def count_word_in_file(filename, word):\n",
        "    try:\n",
        "        with open(filename, 'r') as file:\n",
        "            content = file.read()\n",
        "            word_count = content.lower().split().count(word.lower())  # Case-insensitive count\n",
        "        print(f\"The word '{word}' appears {word_count} times in the file.\")\n",
        "    except FileNotFoundError:\n",
        "        print(f\"Error: The file '{filename}' does not exist.\")\n",
        "\n",
        "# Example usage\n",
        "filename = 'file.txt'\n",
        "word = 'example'\n",
        "count_word_in_file(filename, word)\n"
      ],
      "metadata": {
        "id": "Nc8S_Ismmb0e"
      },
      "execution_count": null,
      "outputs": []
    },
    {
      "cell_type": "code",
      "source": [
        "# 22. How can you check if a file is empty before attempting to read its contents ?\n",
        "\n",
        "import os\n",
        "\n",
        "file_path = 'file.txt'\n",
        "\n",
        "if os.stat(file_path).st_size == 0:\n",
        "    print(\"The file is empty.\")\n",
        "else:\n",
        "    with open(file_path, 'r') as file:\n",
        "        content = file.read()\n",
        "        print(content)\n"
      ],
      "metadata": {
        "id": "fQ7pQnm_miXN"
      },
      "execution_count": null,
      "outputs": []
    },
    {
      "cell_type": "markdown",
      "source": [],
      "metadata": {
        "id": "B9EFROi7mxF6"
      }
    },
    {
      "cell_type": "code",
      "source": [
        "# 23. Write a Python program that writes to a log file when an error occurs during file handling.\n",
        "\n",
        "import logging\n",
        "\n",
        "# Set up logging configuration\n",
        "logging.basicConfig(filename='file_handling.log', level=logging.ERROR, format='%(asctime)s - %(levelname)s - %(message)s')\n",
        "\n",
        "def read_file(file_path):\n",
        "    try:\n",
        "        with open(file_path, 'r') as file:\n",
        "            content = file.read()\n",
        "            print(content)\n",
        "    except Exception as e:\n",
        "        logging.error(f\"Error while handling the file {file_path}: {e}\")\n",
        "\n",
        "# Example usage\n",
        "read_file('non_existent_file.txt')\n"
      ],
      "metadata": {
        "id": "8ATQYMS4mrO7"
      },
      "execution_count": null,
      "outputs": []
    },
    {
      "cell_type": "markdown",
      "source": [],
      "metadata": {
        "id": "fSoTHAC2i6n8"
      }
    }
  ]
}